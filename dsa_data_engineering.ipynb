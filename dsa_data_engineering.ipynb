{
  "nbformat": 4,
  "nbformat_minor": 0,
  "metadata": {
    "colab": {
      "provenance": [],
      "toc_visible": true,
      "authorship_tag": "ABX9TyP78JUvncNMM4kjUPaxuE2t",
      "include_colab_link": true
    },
    "kernelspec": {
      "name": "python3",
      "display_name": "Python 3"
    },
    "language_info": {
      "name": "python"
    }
  },
  "cells": [
    {
      "cell_type": "markdown",
      "metadata": {
        "id": "view-in-github",
        "colab_type": "text"
      },
      "source": [
        "<a href=\"https://colab.research.google.com/github/fliroajr/personal-labs/blob/main/dsa_data_engineering.ipynb\" target=\"_parent\"><img src=\"https://colab.research.google.com/assets/colab-badge.svg\" alt=\"Open In Colab\"/></a>"
      ]
    },
    {
      "cell_type": "markdown",
      "source": [
        "## Demonstração Prática 4 - Criação de Pipeline de Extração, Limpeza, Transformação e Enriquecimento de Dados"
      ],
      "metadata": {
        "id": "cFSoky1EPTPg"
      }
    },
    {
      "cell_type": "markdown",
      "source": [
        "# V1"
      ],
      "metadata": {
        "id": "mxBKnbyJJa-2"
      }
    },
    {
      "cell_type": "code",
      "execution_count": 46,
      "metadata": {
        "id": "t5HUPOzqy8MS"
      },
      "outputs": [],
      "source": [
        "# importação das bibliotecas\n",
        "import urllib.request as url\n",
        "import csv\n",
        "import sqlite3"
      ]
    },
    {
      "cell_type": "code",
      "source": [
        "# cria um banco de dados SQLite\n",
        "conn = sqlite3.connect('dsadb.db')"
      ],
      "metadata": {
        "id": "H8wB8YVysubJ"
      },
      "execution_count": 47,
      "outputs": []
    },
    {
      "cell_type": "code",
      "source": [
        "# Cria uma tabela para armazenar os dados de produção de alimentos\n",
        "conn.execute('''CREATE TABLE IF NOT EXISTS producao (\n",
        "                produto TEXT,\n",
        "                quantidade INTEGER,\n",
        "                preco_medio REAL,\n",
        "                receita_total REAL\n",
        "            )''')\n",
        "\n",
        "# Grava e fecha a conexão\n",
        "conn.commit()\n",
        "conn.close()"
      ],
      "metadata": {
        "id": "s5IwMDF_tDBa"
      },
      "execution_count": 48,
      "outputs": []
    },
    {
      "cell_type": "code",
      "source": [
        "# Download do arquivo csv do repo github\n",
        "url.urlretrieve(\"https://github.com/fliroajr/personal-labs/raw/main/producao_alimentos.csv\", \"producao_alimentos.csv\")"
      ],
      "metadata": {
        "colab": {
          "base_uri": "https://localhost:8080/"
        },
        "id": "FnF5W9dcHyX5",
        "outputId": "3697a54b-933f-4560-92ba-f13c727f45a2"
      },
      "execution_count": 49,
      "outputs": [
        {
          "output_type": "execute_result",
          "data": {
            "text/plain": [
              "('producao_alimentos.csv', <http.client.HTTPMessage at 0x7b2ad0c63340>)"
            ]
          },
          "metadata": {},
          "execution_count": 49
        }
      ]
    },
    {
      "cell_type": "code",
      "source": [
        "with open('/content/producao_alimentos.csv', 'r') as file:\n",
        "\n",
        "    # Cria um leitor de CSV para ler o arquivo\n",
        "    reader = csv.reader(file)\n",
        "\n",
        "    # Pula a primeira linha, que contém os cabeçalhos das colunas\n",
        "    next(reader)\n",
        "\n",
        "    # Conecta ao banco de dados\n",
        "    conn = sqlite3.connect('dsadb.db')\n",
        "\n",
        "    # Insere cada linha do arquivo na tabela do banco de dados\n",
        "    for row in reader:\n",
        "        conn.execute('INSERT INTO producao (produto, quantidade, preco_medio, receita_total) VALUES (?, ?, ?, ?)', row)\n",
        "\n",
        "    conn.commit()\n",
        "    conn.close()\n",
        "\n",
        "print(\"Job Concluído com Sucesso!\")"
      ],
      "metadata": {
        "id": "7L0sEpoJuEbe",
        "colab": {
          "base_uri": "https://localhost:8080/"
        },
        "outputId": "6cb5e134-2448-42fc-e7ed-c9dfdb96e7f7"
      },
      "execution_count": 50,
      "outputs": [
        {
          "output_type": "stream",
          "name": "stdout",
          "text": [
            "Job Concluído com Sucesso!\n"
          ]
        }
      ]
    },
    {
      "cell_type": "markdown",
      "source": [
        "# v2"
      ],
      "metadata": {
        "id": "2oztsy_CKdc3"
      }
    },
    {
      "cell_type": "markdown",
      "source": [
        "Regra de negócio: Carregar somente registros com quantidade produzida superior a 10."
      ],
      "metadata": {
        "id": "rcloOw4KPb1g"
      }
    },
    {
      "cell_type": "code",
      "source": [
        "with open('/content/producao_alimentos.csv', 'r') as file:\n",
        "\n",
        "    # Cria um leitor de CSV para ler o arquivo\n",
        "    reader = csv.reader(file)\n",
        "\n",
        "    # Pula a primeira linha, que contém os cabeçalhos das colunas\n",
        "    next(reader)\n",
        "\n",
        "    # Conecta ao banco de dados\n",
        "    conn = sqlite3.connect('dsadb.db')\n",
        "\n",
        "    # Dropa e recria a tabela producao se já existe\n",
        "    conn.execute('''DROP TABLE IF EXISTS producao;''')\n",
        "\n",
        "    conn.execute('''CREATE TABLE IF NOT EXISTS producao (\n",
        "                produto TEXT,\n",
        "                quantidade INTEGER,\n",
        "                preco_medio REAL,\n",
        "                receita_total REAL\n",
        "            );''')\n",
        "\n",
        "    # Insere cada linha do arquivo na tabela do banco de dados\n",
        "    for row in reader:\n",
        "      if int(row[1]) > 10:\n",
        "        conn.execute('INSERT INTO producao (produto, quantidade, preco_medio, receita_total) VALUES (?, ?, ?, ?)', row)\n",
        "\n",
        "    conn.commit()\n",
        "    conn.close()\n",
        "\n",
        "print(\"Job Concluído com Sucesso!\")"
      ],
      "metadata": {
        "colab": {
          "base_uri": "https://localhost:8080/"
        },
        "id": "TSlSneqkKffY",
        "outputId": "91f31484-cc0b-432b-b124-dea9ecb718a8"
      },
      "execution_count": 51,
      "outputs": [
        {
          "output_type": "stream",
          "name": "stdout",
          "text": [
            "Job Concluído com Sucesso!\n"
          ]
        }
      ]
    },
    {
      "cell_type": "markdown",
      "source": [
        "# V3"
      ],
      "metadata": {
        "id": "zFgw6INWOKL_"
      }
    },
    {
      "cell_type": "markdown",
      "source": [
        "Regra de negócio: Remover o caracter \"ponto\" na última coluna do arquivo para evitar que o número seja truncado."
      ],
      "metadata": {
        "id": "YDbDCcu6PsYI"
      }
    },
    {
      "cell_type": "code",
      "source": [
        "# Função para remover o ponto nos dados da última coluna\n",
        "def remove_ponto(valor):\n",
        "    return int(valor.replace('.', ''))"
      ],
      "metadata": {
        "id": "AkaHgvzhMXkx"
      },
      "execution_count": 52,
      "outputs": []
    },
    {
      "cell_type": "code",
      "source": [
        "with open('/content/producao_alimentos.csv', 'r') as file:\n",
        "\n",
        "    # Cria um leitor de CSV para ler o arquivo\n",
        "    reader = csv.reader(file)\n",
        "\n",
        "    # Pula a primeira linha, que contém os cabeçalhos das colunas\n",
        "    next(reader)\n",
        "\n",
        "    # Conecta ao banco de dados\n",
        "    conn = sqlite3.connect('dsadb.db')\n",
        "\n",
        "    # Dropa e recria a tabela producao se já existe\n",
        "    conn.execute('''DROP TABLE IF EXISTS producao;''')\n",
        "\n",
        "    conn.execute('''CREATE TABLE IF NOT EXISTS producao (\n",
        "                produto TEXT,\n",
        "                quantidade INTEGER,\n",
        "                preco_medio REAL,\n",
        "                receita_total REAL\n",
        "            );''')\n",
        "\n",
        "    # Insere cada linha do arquivo na tabela do banco de dados\n",
        "    for row in reader:\n",
        "      if int(row[1]) > 10:\n",
        "\n",
        "        # Remove ponto do valor da ultima coluna e converte em inteiro\n",
        "        row[3] = remove_ponto(row[3])\n",
        "\n",
        "        # Insere dados no banco\n",
        "        conn.execute('INSERT INTO producao (produto, quantidade, preco_medio, receita_total) VALUES (?, ?, ?, ?)', row)\n",
        "\n",
        "    conn.commit()\n",
        "    conn.close()\n",
        "\n",
        "print(\"Job Concluído com Sucesso!\")"
      ],
      "metadata": {
        "colab": {
          "base_uri": "https://localhost:8080/"
        },
        "id": "gR2Hr1oYOPtS",
        "outputId": "f572ea3b-b7e8-4c4c-8ca7-f90ba6f1857c"
      },
      "execution_count": 53,
      "outputs": [
        {
          "output_type": "stream",
          "name": "stdout",
          "text": [
            "Job Concluído com Sucesso!\n"
          ]
        }
      ]
    },
    {
      "cell_type": "markdown",
      "source": [
        "# V4"
      ],
      "metadata": {
        "id": "Xwwq9hqiPFnX"
      }
    },
    {
      "cell_type": "markdown",
      "source": [
        "Enriquecer os dados adicionando no destino uma coluna com a margem de lucro de cada produto"
      ],
      "metadata": {
        "id": "PlfeUqcTP0-D"
      }
    },
    {
      "cell_type": "code",
      "source": [
        "with open('/content/producao_alimentos.csv', 'r') as file:\n",
        "\n",
        "    # Cria um leitor de CSV para ler o arquivo\n",
        "    reader = csv.reader(file)\n",
        "\n",
        "    # Pula a primeira linha, que contém os cabeçalhos das colunas\n",
        "    next(reader)\n",
        "\n",
        "    # Conecta ao banco de dados\n",
        "    conn = sqlite3.connect('dsadb.db')\n",
        "\n",
        "    # Dropa e recria a tabela producao se já existe\n",
        "    conn.execute('''DROP TABLE IF EXISTS producao;''')\n",
        "\n",
        "    # Cria a tabela com uma nova coluna atendendo à necessidade da regra de negócio\n",
        "    conn.execute('''CREATE TABLE IF NOT EXISTS producao (\n",
        "                produto TEXT,\n",
        "                quantidade INTEGER,\n",
        "                preco_medio REAL,\n",
        "                receita_total REAL,\n",
        "                margem_lucro REAL\n",
        "            );''')\n",
        "\n",
        "    # Insere cada linha do arquivo na tabela do banco de dados\n",
        "    for row in reader:\n",
        "      if int(row[1]) > 10:\n",
        "\n",
        "        # Remove ponto do valor da ultima coluna e converte em inteiro\n",
        "        row[3] = remove_ponto(row[3])\n",
        "\n",
        "        # Calcula a margem de lucro bruta com base no valor médio de venda e na receita total\n",
        "        margem_lucro = (row[3] / float(row[1])) - float(row[2])\n",
        "\n",
        "        # # Insere a linha com a nova coluna 'margem_lucro' na tabela do banco de dados\n",
        "        conn.execute('INSERT INTO producao (produto, quantidade, preco_medio, receita_total, margem_lucro) VALUES (?, ?, ?, ?, ?)', (row[0], row[1], row[2], row[3], margem_lucro))\n",
        "\n",
        "    conn.commit()\n",
        "    conn.close()\n",
        "\n",
        "print(\"Job Concluído com Sucesso!\")"
      ],
      "metadata": {
        "colab": {
          "base_uri": "https://localhost:8080/"
        },
        "id": "FI68vf2EO7ZF",
        "outputId": "7123dce7-39e3-4c71-96ec-9bb6375bf214"
      },
      "execution_count": 54,
      "outputs": [
        {
          "output_type": "stream",
          "name": "stdout",
          "text": [
            "Job Concluído com Sucesso!\n"
          ]
        }
      ]
    },
    {
      "cell_type": "markdown",
      "source": [
        "# V5"
      ],
      "metadata": {
        "id": "F56BkoY7RUq2"
      }
    },
    {
      "cell_type": "markdown",
      "source": [
        "Formatando as casas decimais utilizando função 'round' para arredondar"
      ],
      "metadata": {
        "id": "zvUIPK0XRWXK"
      }
    },
    {
      "cell_type": "code",
      "source": [
        "with open('/content/producao_alimentos.csv', 'r') as file:\n",
        "\n",
        "    # Cria um leitor de CSV para ler o arquivo\n",
        "    reader = csv.reader(file)\n",
        "\n",
        "    # Pula a primeira linha, que contém os cabeçalhos das colunas\n",
        "    next(reader)\n",
        "\n",
        "    # Conecta ao banco de dados\n",
        "    conn = sqlite3.connect('dsadb.db')\n",
        "\n",
        "    # Dropa e recria a tabela producao se já existe\n",
        "    conn.execute('''DROP TABLE IF EXISTS producao;''')\n",
        "\n",
        "    # Cria a tabela com uma nova coluna atendendo à necessidade da regra de negócio\n",
        "    conn.execute('''CREATE TABLE IF NOT EXISTS producao (\n",
        "                produto TEXT,\n",
        "                quantidade INTEGER,\n",
        "                preco_medio REAL,\n",
        "                receita_total REAL,\n",
        "                margem_lucro REAL\n",
        "            );''')\n",
        "\n",
        "    # Insere cada linha do arquivo na tabela do banco de dados\n",
        "    for row in reader:\n",
        "      if int(row[1]) > 10:\n",
        "\n",
        "        # Remove ponto do valor da ultima coluna e converte em inteiro\n",
        "        row[3] = remove_ponto(row[3])\n",
        "\n",
        "        # Calcula a margem de lucro bruta com base no valor médio de venda e na receita total\n",
        "        margem_lucro = round((row[3] / float(row[1])) - float(row[2]), 2)\n",
        "\n",
        "        # # Insere a linha com a nova coluna 'margem_lucro' na tabela do banco de dados\n",
        "        conn.execute('INSERT INTO producao (produto, quantidade, preco_medio, receita_total, margem_lucro) VALUES (?, ?, ?, ?, ?)', (row[0], row[1], row[2], row[3], margem_lucro))\n",
        "\n",
        "    conn.commit()\n",
        "    conn.close()\n",
        "\n",
        "print(\"Job Concluído com Sucesso!\")"
      ],
      "metadata": {
        "colab": {
          "base_uri": "https://localhost:8080/"
        },
        "id": "iBKQq7avRPR5",
        "outputId": "0d40986e-2d87-4d74-d275-2dc394d5a350"
      },
      "execution_count": 57,
      "outputs": [
        {
          "output_type": "stream",
          "name": "stdout",
          "text": [
            "Job Concluído com Sucesso!\n"
          ]
        }
      ]
    },
    {
      "cell_type": "code",
      "source": [],
      "metadata": {
        "id": "nCerRWgLR0Tf"
      },
      "execution_count": 55,
      "outputs": []
    }
  ]
}